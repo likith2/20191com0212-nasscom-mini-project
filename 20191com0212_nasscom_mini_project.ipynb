{
  "nbformat": 4,
  "nbformat_minor": 0,
  "metadata": {
    "colab": {
      "name": "20191com0212 nasscom_mini_project.ipynb",
      "provenance": [],
      "collapsed_sections": []
    },
    "kernelspec": {
      "name": "python3",
      "display_name": "Python 3"
    },
    "language_info": {
      "name": "python"
    }
  },
  "cells": [
    {
      "cell_type": "markdown",
      "metadata": {
        "id": "9BqjX1Rs1nki"
      },
      "source": [
        "NASSCOM MINI PROJECT\n",
        "\n",
        "NAME: likith u\n",
        "\n",
        "ID NO: 20191COM0212\n",
        "\n",
        "SECTION: 5COM4\n"
      ]
    },
    {
      "cell_type": "markdown",
      "metadata": {
        "id": "3vgDh6Bn14I1"
      },
      "source": [
        "Predict Fuel Efficiency"
      ]
    },
    {
      "cell_type": "markdown",
      "metadata": {
        "id": "aY9tAC5M17yz"
      },
      "source": [
        "Let’s import the necessary libraries to get started with this task:"
      ]
    },
    {
      "cell_type": "code",
      "metadata": {
        "id": "wkek85Oo2A5X"
      },
      "source": [
        "import matplotlib.pyplot as plt\n",
        "import pandas as pd\n",
        "import seaborn as sns\n",
        "\n",
        "import tensorflow as tf\n",
        "from tensorflow import keras\n",
        "from tensorflow.keras import layers"
      ],
      "execution_count": 1,
      "outputs": []
    },
    {
      "cell_type": "code",
      "metadata": {
        "id": "X8H8soyc2bVQ"
      },
      "source": [
        "import matplotlib.pyplot as plt\n",
        "import numpy as np\n",
        "import pandas as pd\n",
        "\n",
        "\n",
        "# Make NumPy printouts easier to read.\n",
        "np.set_printoptions(precision=3, suppress=True)"
      ],
      "execution_count": 2,
      "outputs": []
    },
    {
      "cell_type": "code",
      "metadata": {
        "id": "enf9zA6M2qL7"
      },
      "source": [
        "dataset = pd.read_csv(\"/content/dataset.txt\",sep=\",\")"
      ],
      "execution_count": 3,
      "outputs": []
    },
    {
      "cell_type": "code",
      "metadata": {
        "colab": {
          "base_uri": "https://localhost:8080/",
          "height": 204
        },
        "id": "CAWxwOEm2t_B",
        "outputId": "ce93a72c-93d4-430a-eb9f-cc7b51ab6803"
      },
      "source": [
        "dataset.head()"
      ],
      "execution_count": 4,
      "outputs": [
        {
          "output_type": "execute_result",
          "data": {
            "text/html": [
              "<div>\n",
              "<style scoped>\n",
              "    .dataframe tbody tr th:only-of-type {\n",
              "        vertical-align: middle;\n",
              "    }\n",
              "\n",
              "    .dataframe tbody tr th {\n",
              "        vertical-align: top;\n",
              "    }\n",
              "\n",
              "    .dataframe thead th {\n",
              "        text-align: right;\n",
              "    }\n",
              "</style>\n",
              "<table border=\"1\" class=\"dataframe\">\n",
              "  <thead>\n",
              "    <tr style=\"text-align: right;\">\n",
              "      <th></th>\n",
              "      <th>mpg</th>\n",
              "      <th>cylinders</th>\n",
              "      <th>displacement</th>\n",
              "      <th>horsepower</th>\n",
              "      <th>weight</th>\n",
              "      <th>acceleration</th>\n",
              "      <th>model year</th>\n",
              "      <th>origin</th>\n",
              "      <th>car name</th>\n",
              "    </tr>\n",
              "  </thead>\n",
              "  <tbody>\n",
              "    <tr>\n",
              "      <th>0</th>\n",
              "      <td>18.0</td>\n",
              "      <td>8</td>\n",
              "      <td>307.0</td>\n",
              "      <td>130</td>\n",
              "      <td>3504</td>\n",
              "      <td>12.0</td>\n",
              "      <td>70</td>\n",
              "      <td>1</td>\n",
              "      <td>chevrolet chevelle malibu</td>\n",
              "    </tr>\n",
              "    <tr>\n",
              "      <th>1</th>\n",
              "      <td>15.0</td>\n",
              "      <td>8</td>\n",
              "      <td>350.0</td>\n",
              "      <td>165</td>\n",
              "      <td>3693</td>\n",
              "      <td>11.5</td>\n",
              "      <td>70</td>\n",
              "      <td>1</td>\n",
              "      <td>buick skylark 320</td>\n",
              "    </tr>\n",
              "    <tr>\n",
              "      <th>2</th>\n",
              "      <td>18.0</td>\n",
              "      <td>8</td>\n",
              "      <td>318.0</td>\n",
              "      <td>150</td>\n",
              "      <td>3436</td>\n",
              "      <td>11.0</td>\n",
              "      <td>70</td>\n",
              "      <td>1</td>\n",
              "      <td>plymouth satellite</td>\n",
              "    </tr>\n",
              "    <tr>\n",
              "      <th>3</th>\n",
              "      <td>16.0</td>\n",
              "      <td>8</td>\n",
              "      <td>304.0</td>\n",
              "      <td>150</td>\n",
              "      <td>3433</td>\n",
              "      <td>12.0</td>\n",
              "      <td>70</td>\n",
              "      <td>1</td>\n",
              "      <td>amc rebel sst</td>\n",
              "    </tr>\n",
              "    <tr>\n",
              "      <th>4</th>\n",
              "      <td>17.0</td>\n",
              "      <td>8</td>\n",
              "      <td>302.0</td>\n",
              "      <td>140</td>\n",
              "      <td>3449</td>\n",
              "      <td>10.5</td>\n",
              "      <td>70</td>\n",
              "      <td>1</td>\n",
              "      <td>ford torino</td>\n",
              "    </tr>\n",
              "  </tbody>\n",
              "</table>\n",
              "</div>"
            ],
            "text/plain": [
              "    mpg  cylinders  displacement  ... model year  origin                   car name\n",
              "0  18.0          8         307.0  ...         70       1  chevrolet chevelle malibu\n",
              "1  15.0          8         350.0  ...         70       1          buick skylark 320\n",
              "2  18.0          8         318.0  ...         70       1         plymouth satellite\n",
              "3  16.0          8         304.0  ...         70       1              amc rebel sst\n",
              "4  17.0          8         302.0  ...         70       1                ford torino\n",
              "\n",
              "[5 rows x 9 columns]"
            ]
          },
          "metadata": {},
          "execution_count": 4
        }
      ]
    },
    {
      "cell_type": "code",
      "metadata": {
        "colab": {
          "base_uri": "https://localhost:8080/",
          "height": 204
        },
        "id": "mT8v1wnU3EtO",
        "outputId": "8124fd73-0794-4f9d-b78f-ecb6a81653ce"
      },
      "source": [
        "dataset.tail()"
      ],
      "execution_count": 5,
      "outputs": [
        {
          "output_type": "execute_result",
          "data": {
            "text/html": [
              "<div>\n",
              "<style scoped>\n",
              "    .dataframe tbody tr th:only-of-type {\n",
              "        vertical-align: middle;\n",
              "    }\n",
              "\n",
              "    .dataframe tbody tr th {\n",
              "        vertical-align: top;\n",
              "    }\n",
              "\n",
              "    .dataframe thead th {\n",
              "        text-align: right;\n",
              "    }\n",
              "</style>\n",
              "<table border=\"1\" class=\"dataframe\">\n",
              "  <thead>\n",
              "    <tr style=\"text-align: right;\">\n",
              "      <th></th>\n",
              "      <th>mpg</th>\n",
              "      <th>cylinders</th>\n",
              "      <th>displacement</th>\n",
              "      <th>horsepower</th>\n",
              "      <th>weight</th>\n",
              "      <th>acceleration</th>\n",
              "      <th>model year</th>\n",
              "      <th>origin</th>\n",
              "      <th>car name</th>\n",
              "    </tr>\n",
              "  </thead>\n",
              "  <tbody>\n",
              "    <tr>\n",
              "      <th>393</th>\n",
              "      <td>27.0</td>\n",
              "      <td>4</td>\n",
              "      <td>140.0</td>\n",
              "      <td>86</td>\n",
              "      <td>2790</td>\n",
              "      <td>15.6</td>\n",
              "      <td>82</td>\n",
              "      <td>1</td>\n",
              "      <td>ford mustang gl</td>\n",
              "    </tr>\n",
              "    <tr>\n",
              "      <th>394</th>\n",
              "      <td>44.0</td>\n",
              "      <td>4</td>\n",
              "      <td>97.0</td>\n",
              "      <td>52</td>\n",
              "      <td>2130</td>\n",
              "      <td>24.6</td>\n",
              "      <td>82</td>\n",
              "      <td>2</td>\n",
              "      <td>vw pickup</td>\n",
              "    </tr>\n",
              "    <tr>\n",
              "      <th>395</th>\n",
              "      <td>32.0</td>\n",
              "      <td>4</td>\n",
              "      <td>135.0</td>\n",
              "      <td>84</td>\n",
              "      <td>2295</td>\n",
              "      <td>11.6</td>\n",
              "      <td>82</td>\n",
              "      <td>1</td>\n",
              "      <td>dodge rampage</td>\n",
              "    </tr>\n",
              "    <tr>\n",
              "      <th>396</th>\n",
              "      <td>28.0</td>\n",
              "      <td>4</td>\n",
              "      <td>120.0</td>\n",
              "      <td>79</td>\n",
              "      <td>2625</td>\n",
              "      <td>18.6</td>\n",
              "      <td>82</td>\n",
              "      <td>1</td>\n",
              "      <td>ford ranger</td>\n",
              "    </tr>\n",
              "    <tr>\n",
              "      <th>397</th>\n",
              "      <td>31.0</td>\n",
              "      <td>4</td>\n",
              "      <td>119.0</td>\n",
              "      <td>82</td>\n",
              "      <td>2720</td>\n",
              "      <td>19.4</td>\n",
              "      <td>82</td>\n",
              "      <td>1</td>\n",
              "      <td>chevy s-10</td>\n",
              "    </tr>\n",
              "  </tbody>\n",
              "</table>\n",
              "</div>"
            ],
            "text/plain": [
              "      mpg  cylinders  displacement  ... model year  origin         car name\n",
              "393  27.0          4         140.0  ...         82       1  ford mustang gl\n",
              "394  44.0          4          97.0  ...         82       2        vw pickup\n",
              "395  32.0          4         135.0  ...         82       1    dodge rampage\n",
              "396  28.0          4         120.0  ...         82       1      ford ranger\n",
              "397  31.0          4         119.0  ...         82       1       chevy s-10\n",
              "\n",
              "[5 rows x 9 columns]"
            ]
          },
          "metadata": {},
          "execution_count": 5
        }
      ]
    },
    {
      "cell_type": "code",
      "metadata": {
        "colab": {
          "base_uri": "https://localhost:8080/"
        },
        "id": "_dogcxnt3I6x",
        "outputId": "8c0ad8ae-bafc-4baa-acd8-2398138a6db8"
      },
      "source": [
        "print(\"presenceof null values:\"+str(dataset.isnull().values.any()))"
      ],
      "execution_count": 6,
      "outputs": [
        {
          "output_type": "stream",
          "name": "stdout",
          "text": [
            "presenceof null values:False\n"
          ]
        }
      ]
    },
    {
      "cell_type": "markdown",
      "metadata": {
        "id": "hSC1ksXs4ZUM"
      },
      "source": [
        "Clean the data"
      ]
    },
    {
      "cell_type": "code",
      "metadata": {
        "colab": {
          "base_uri": "https://localhost:8080/"
        },
        "id": "XMnsAGfT4fNz",
        "outputId": "3530d5c8-a45b-42e0-ffb0-788d72995ee2"
      },
      "source": [
        "dataset.isna().sum()"
      ],
      "execution_count": 8,
      "outputs": [
        {
          "output_type": "execute_result",
          "data": {
            "text/plain": [
              "mpg             0\n",
              "cylinders       0\n",
              "displacement    0\n",
              "horsepower      0\n",
              "weight          0\n",
              "acceleration    0\n",
              "model year      0\n",
              "origin          0\n",
              "car name        0\n",
              "dtype: int64"
            ]
          },
          "metadata": {},
          "execution_count": 8
        }
      ]
    },
    {
      "cell_type": "markdown",
      "metadata": {
        "id": "fDigbJmA40n2"
      },
      "source": [
        "Drop those rows to keep this initial tutorial simple:"
      ]
    },
    {
      "cell_type": "code",
      "metadata": {
        "colab": {
          "base_uri": "https://localhost:8080/",
          "height": 419
        },
        "id": "vf0JN6L35AWs",
        "outputId": "fb6d5229-efef-45e0-bb54-fd443167c844"
      },
      "source": [
        "dataset = dataset.dropna()\n",
        "dataset"
      ],
      "execution_count": 10,
      "outputs": [
        {
          "output_type": "execute_result",
          "data": {
            "text/html": [
              "<div>\n",
              "<style scoped>\n",
              "    .dataframe tbody tr th:only-of-type {\n",
              "        vertical-align: middle;\n",
              "    }\n",
              "\n",
              "    .dataframe tbody tr th {\n",
              "        vertical-align: top;\n",
              "    }\n",
              "\n",
              "    .dataframe thead th {\n",
              "        text-align: right;\n",
              "    }\n",
              "</style>\n",
              "<table border=\"1\" class=\"dataframe\">\n",
              "  <thead>\n",
              "    <tr style=\"text-align: right;\">\n",
              "      <th></th>\n",
              "      <th>mpg</th>\n",
              "      <th>cylinders</th>\n",
              "      <th>displacement</th>\n",
              "      <th>horsepower</th>\n",
              "      <th>weight</th>\n",
              "      <th>acceleration</th>\n",
              "      <th>model year</th>\n",
              "      <th>origin</th>\n",
              "      <th>car name</th>\n",
              "    </tr>\n",
              "  </thead>\n",
              "  <tbody>\n",
              "    <tr>\n",
              "      <th>0</th>\n",
              "      <td>18.0</td>\n",
              "      <td>8</td>\n",
              "      <td>307.0</td>\n",
              "      <td>130</td>\n",
              "      <td>3504</td>\n",
              "      <td>12.0</td>\n",
              "      <td>70</td>\n",
              "      <td>1</td>\n",
              "      <td>chevrolet chevelle malibu</td>\n",
              "    </tr>\n",
              "    <tr>\n",
              "      <th>1</th>\n",
              "      <td>15.0</td>\n",
              "      <td>8</td>\n",
              "      <td>350.0</td>\n",
              "      <td>165</td>\n",
              "      <td>3693</td>\n",
              "      <td>11.5</td>\n",
              "      <td>70</td>\n",
              "      <td>1</td>\n",
              "      <td>buick skylark 320</td>\n",
              "    </tr>\n",
              "    <tr>\n",
              "      <th>2</th>\n",
              "      <td>18.0</td>\n",
              "      <td>8</td>\n",
              "      <td>318.0</td>\n",
              "      <td>150</td>\n",
              "      <td>3436</td>\n",
              "      <td>11.0</td>\n",
              "      <td>70</td>\n",
              "      <td>1</td>\n",
              "      <td>plymouth satellite</td>\n",
              "    </tr>\n",
              "    <tr>\n",
              "      <th>3</th>\n",
              "      <td>16.0</td>\n",
              "      <td>8</td>\n",
              "      <td>304.0</td>\n",
              "      <td>150</td>\n",
              "      <td>3433</td>\n",
              "      <td>12.0</td>\n",
              "      <td>70</td>\n",
              "      <td>1</td>\n",
              "      <td>amc rebel sst</td>\n",
              "    </tr>\n",
              "    <tr>\n",
              "      <th>4</th>\n",
              "      <td>17.0</td>\n",
              "      <td>8</td>\n",
              "      <td>302.0</td>\n",
              "      <td>140</td>\n",
              "      <td>3449</td>\n",
              "      <td>10.5</td>\n",
              "      <td>70</td>\n",
              "      <td>1</td>\n",
              "      <td>ford torino</td>\n",
              "    </tr>\n",
              "    <tr>\n",
              "      <th>...</th>\n",
              "      <td>...</td>\n",
              "      <td>...</td>\n",
              "      <td>...</td>\n",
              "      <td>...</td>\n",
              "      <td>...</td>\n",
              "      <td>...</td>\n",
              "      <td>...</td>\n",
              "      <td>...</td>\n",
              "      <td>...</td>\n",
              "    </tr>\n",
              "    <tr>\n",
              "      <th>393</th>\n",
              "      <td>27.0</td>\n",
              "      <td>4</td>\n",
              "      <td>140.0</td>\n",
              "      <td>86</td>\n",
              "      <td>2790</td>\n",
              "      <td>15.6</td>\n",
              "      <td>82</td>\n",
              "      <td>1</td>\n",
              "      <td>ford mustang gl</td>\n",
              "    </tr>\n",
              "    <tr>\n",
              "      <th>394</th>\n",
              "      <td>44.0</td>\n",
              "      <td>4</td>\n",
              "      <td>97.0</td>\n",
              "      <td>52</td>\n",
              "      <td>2130</td>\n",
              "      <td>24.6</td>\n",
              "      <td>82</td>\n",
              "      <td>2</td>\n",
              "      <td>vw pickup</td>\n",
              "    </tr>\n",
              "    <tr>\n",
              "      <th>395</th>\n",
              "      <td>32.0</td>\n",
              "      <td>4</td>\n",
              "      <td>135.0</td>\n",
              "      <td>84</td>\n",
              "      <td>2295</td>\n",
              "      <td>11.6</td>\n",
              "      <td>82</td>\n",
              "      <td>1</td>\n",
              "      <td>dodge rampage</td>\n",
              "    </tr>\n",
              "    <tr>\n",
              "      <th>396</th>\n",
              "      <td>28.0</td>\n",
              "      <td>4</td>\n",
              "      <td>120.0</td>\n",
              "      <td>79</td>\n",
              "      <td>2625</td>\n",
              "      <td>18.6</td>\n",
              "      <td>82</td>\n",
              "      <td>1</td>\n",
              "      <td>ford ranger</td>\n",
              "    </tr>\n",
              "    <tr>\n",
              "      <th>397</th>\n",
              "      <td>31.0</td>\n",
              "      <td>4</td>\n",
              "      <td>119.0</td>\n",
              "      <td>82</td>\n",
              "      <td>2720</td>\n",
              "      <td>19.4</td>\n",
              "      <td>82</td>\n",
              "      <td>1</td>\n",
              "      <td>chevy s-10</td>\n",
              "    </tr>\n",
              "  </tbody>\n",
              "</table>\n",
              "<p>398 rows × 9 columns</p>\n",
              "</div>"
            ],
            "text/plain": [
              "      mpg  cylinders  ...  origin                   car name\n",
              "0    18.0          8  ...       1  chevrolet chevelle malibu\n",
              "1    15.0          8  ...       1          buick skylark 320\n",
              "2    18.0          8  ...       1         plymouth satellite\n",
              "3    16.0          8  ...       1              amc rebel sst\n",
              "4    17.0          8  ...       1                ford torino\n",
              "..    ...        ...  ...     ...                        ...\n",
              "393  27.0          4  ...       1            ford mustang gl\n",
              "394  44.0          4  ...       2                  vw pickup\n",
              "395  32.0          4  ...       1              dodge rampage\n",
              "396  28.0          4  ...       1                ford ranger\n",
              "397  31.0          4  ...       1                 chevy s-10\n",
              "\n",
              "[398 rows x 9 columns]"
            ]
          },
          "metadata": {},
          "execution_count": 10
        }
      ]
    },
    {
      "cell_type": "code",
      "metadata": {
        "colab": {
          "base_uri": "https://localhost:8080/"
        },
        "id": "mcz5JGNh5Nme",
        "outputId": "013be4c8-a94c-47e4-a0da-a94a90b4d1d3"
      },
      "source": [
        "dataset.index"
      ],
      "execution_count": 11,
      "outputs": [
        {
          "output_type": "execute_result",
          "data": {
            "text/plain": [
              "Int64Index([  0,   1,   2,   3,   4,   5,   6,   7,   8,   9,\n",
              "            ...\n",
              "            388, 389, 390, 391, 392, 393, 394, 395, 396, 397],\n",
              "           dtype='int64', length=398)"
            ]
          },
          "metadata": {},
          "execution_count": 11
        }
      ]
    },
    {
      "cell_type": "code",
      "metadata": {
        "colab": {
          "base_uri": "https://localhost:8080/"
        },
        "id": "LguUJHkO5SlI",
        "outputId": "9ef88518-45ad-41ef-e741-1bc66a74c83a"
      },
      "source": [
        "dataset.columns"
      ],
      "execution_count": 12,
      "outputs": [
        {
          "output_type": "execute_result",
          "data": {
            "text/plain": [
              "Index(['mpg', 'cylinders', 'displacement', 'horsepower', 'weight',\n",
              "       'acceleration', 'model year', 'origin', 'car name'],\n",
              "      dtype='object')"
            ]
          },
          "metadata": {},
          "execution_count": 12
        }
      ]
    },
    {
      "cell_type": "code",
      "metadata": {
        "colab": {
          "base_uri": "https://localhost:8080/"
        },
        "id": "rs5jeUZb5UzT",
        "outputId": "439a799d-8943-44b7-a0f4-5c84d437796d"
      },
      "source": [
        "origin = dataset.pop('origin')\n",
        "dataset['USA'] = (origin == 1)*1.0\n",
        "dataset['Europe'] = (origin == 2)*1.0\n",
        "dataset['Japan'] = (origin == 3)*1.0\n",
        "print(origin)"
      ],
      "execution_count": 13,
      "outputs": [
        {
          "output_type": "stream",
          "name": "stdout",
          "text": [
            "0      1\n",
            "1      1\n",
            "2      1\n",
            "3      1\n",
            "4      1\n",
            "      ..\n",
            "393    1\n",
            "394    2\n",
            "395    1\n",
            "396    1\n",
            "397    1\n",
            "Name: origin, Length: 398, dtype: int64\n"
          ]
        }
      ]
    },
    {
      "cell_type": "markdown",
      "metadata": {
        "id": "xA-ylYzm5fdn"
      },
      "source": [
        "### **Now, let’s split the data into training and test sets:**"
      ]
    },
    {
      "cell_type": "code",
      "metadata": {
        "colab": {
          "base_uri": "https://localhost:8080/"
        },
        "id": "foWf9LeU5x6D",
        "outputId": "b14fe43a-8dbc-4ff9-c8c0-c2e114ab8a1c"
      },
      "source": [
        "train_dataset = dataset.sample(frac=0.8,random_state=0)\n",
        "test_dataset = dataset.drop(train_dataset.index)\n",
        "print(train_dataset)"
      ],
      "execution_count": 14,
      "outputs": [
        {
          "output_type": "stream",
          "name": "stdout",
          "text": [
            "      mpg  cylinders  displacement  ...  USA  Europe  Japan\n",
            "65   14.0          8         351.0  ...  1.0     0.0    0.0\n",
            "132  25.0          4         140.0  ...  1.0     0.0    0.0\n",
            "74   13.0          8         302.0  ...  1.0     0.0    0.0\n",
            "78   21.0          4         120.0  ...  0.0     1.0    0.0\n",
            "37   18.0          6         232.0  ...  1.0     0.0    0.0\n",
            "..    ...        ...           ...  ...  ...     ...    ...\n",
            "207  20.0          4         130.0  ...  0.0     1.0    0.0\n",
            "279  29.5          4          98.0  ...  0.0     0.0    1.0\n",
            "227  19.0          6         225.0  ...  1.0     0.0    0.0\n",
            "148  26.0          4         116.0  ...  0.0     1.0    0.0\n",
            "143  26.0          4          97.0  ...  0.0     1.0    0.0\n",
            "\n",
            "[318 rows x 11 columns]\n"
          ]
        }
      ]
    },
    {
      "cell_type": "code",
      "metadata": {
        "colab": {
          "base_uri": "https://localhost:8080/"
        },
        "id": "d8IV4Cm852-Z",
        "outputId": "37862cbf-50cc-48b8-9d0f-929ae59bf5f2"
      },
      "source": [
        "print(test_dataset)"
      ],
      "execution_count": 15,
      "outputs": [
        {
          "output_type": "stream",
          "name": "stdout",
          "text": [
            "      mpg  cylinders  displacement  ...  USA  Europe  Japan\n",
            "9    15.0          8         390.0  ...  1.0     0.0    0.0\n",
            "25   10.0          8         360.0  ...  1.0     0.0    0.0\n",
            "28    9.0          8         304.0  ...  1.0     0.0    0.0\n",
            "31   25.0          4         113.0  ...  0.0     0.0    1.0\n",
            "32   25.0          4          98.0  ...  1.0     0.0    0.0\n",
            "..    ...        ...           ...  ...  ...     ...    ...\n",
            "368  27.0          4         112.0  ...  1.0     0.0    0.0\n",
            "370  31.0          4         112.0  ...  1.0     0.0    0.0\n",
            "382  34.0          4         108.0  ...  0.0     0.0    1.0\n",
            "384  32.0          4          91.0  ...  0.0     0.0    1.0\n",
            "396  28.0          4         120.0  ...  1.0     0.0    0.0\n",
            "\n",
            "[80 rows x 11 columns]\n"
          ]
        }
      ]
    },
    {
      "cell_type": "markdown",
      "metadata": {
        "id": "yhmj-Pnk58vk"
      },
      "source": [
        "### **visualize the data by using the seaborn’s pair plot method:**"
      ]
    },
    {
      "cell_type": "code",
      "metadata": {
        "colab": {
          "base_uri": "https://localhost:8080/",
          "height": 743
        },
        "id": "5kCavofR6A8a",
        "outputId": "ccd097dd-cfe1-4246-8618-9b21da2d831c"
      },
      "source": [
        "import seaborn as sns\n",
        "sns.pairplot(train_dataset[['mpg', 'cylinders', 'displacement', 'weight']], diag_kind='kde')"
      ],
      "execution_count": 16,
      "outputs": [
        {
          "output_type": "execute_result",
          "data": {
            "text/plain": [
              "<seaborn.axisgrid.PairGrid at 0x7f1fff2688d0>"
            ]
          },
          "metadata": {},
          "execution_count": 16
        },
        {
          "output_type": "display_data",
          "data": {
            "image/png": "[encoded data removed]",
            "text/plain": [
              "<Figure size 720x720 with 20 Axes>"
            ]
          },
          "metadata": {
            "needs_background": "light"
          }
        }
      ]
    },
    {
      "cell_type": "markdown",
      "metadata": {
        "id": "PPQDHtQO6IVz"
      },
      "source": [
        "### **using bar plot**"
      ]
    },
    {
      "cell_type": "code",
      "metadata": {
        "colab": {
          "base_uri": "https://localhost:8080/",
          "height": 279
        },
        "id": "Uqa288006NTE",
        "outputId": "c3ce215d-8280-4587-e550-b81246057be6"
      },
      "source": [
        "pd.value_counts(dataset['cylinders']).plot.bar()"
      ],
      "execution_count": 17,
      "outputs": [
        {
          "output_type": "execute_result",
          "data": {
            "text/plain": [
              "<matplotlib.axes._subplots.AxesSubplot at 0x7f1ff3129150>"
            ]
          },
          "metadata": {},
          "execution_count": 17
        },
        {
          "output_type": "display_data",
          "data": {
            "image/png": "[encoded data removed]",
            "text/plain": [
              "<Figure size 432x288 with 1 Axes>"
            ]
          },
          "metadata": {
            "needs_background": "light"
          }
        }
      ]
    },
    {
      "cell_type": "markdown",
      "metadata": {
        "id": "7DMgtA6E6VAr"
      },
      "source": [
        "### **prediction using box plot**"
      ]
    },
    {
      "cell_type": "code",
      "metadata": {
        "colab": {
          "base_uri": "https://localhost:8080/",
          "height": 296
        },
        "id": "UVoy5KIP6aSM",
        "outputId": "6282745d-f821-4f88-848c-1f4df7c772c2"
      },
      "source": [
        "sns.boxplot(x='cylinders',y='mpg',data=dataset)"
      ],
      "execution_count": 18,
      "outputs": [
        {
          "output_type": "execute_result",
          "data": {
            "text/plain": [
              "<matplotlib.axes._subplots.AxesSubplot at 0x7f1ff136ce90>"
            ]
          },
          "metadata": {},
          "execution_count": 18
        },
        {
          "output_type": "display_data",
          "data": {
            "image/png": "[encoded data removed]",
            "text/plain": [
              "<Figure size 432x288 with 1 Axes>"
            ]
          },
          "metadata": {
            "needs_background": "light"
          }
        }
      ]
    },
    {
      "cell_type": "markdown",
      "metadata": {
        "id": "1QETkCsx6fVC"
      },
      "source": [
        "A boxplot will help us better visualize what is happening with the data. Using seaborn’s builtin boxplot method, I’ve made the plot below, which plots car origin against the mpgs of the individual cars:\n"
      ]
    },
    {
      "cell_type": "markdown",
      "metadata": {
        "id": "IZLJsZTn6j7q"
      },
      "source": [
        "### **Heat map**"
      ]
    },
    {
      "cell_type": "code",
      "metadata": {
        "colab": {
          "base_uri": "https://localhost:8080/",
          "height": 327
        },
        "id": "fp1ZEcho6odx",
        "outputId": "6182a3d9-27ed-4885-8830-d2817e5c158c"
      },
      "source": [
        "corr = dataset.corr()\n",
        "sns.heatmap(corr)\n",
        "plt.show()"
      ],
      "execution_count": 19,
      "outputs": [
        {
          "output_type": "display_data",
          "data": {
            "image/png": "[encoded data removed]",
            "text/plain": [
              "<Figure size 432x288 with 2 Axes>"
            ]
          },
          "metadata": {
            "needs_background": "light"
          }
        }
      ]
    },
    {
      "cell_type": "markdown",
      "metadata": {
        "id": "J8DoZ4jZ6vT2"
      },
      "source": [
        "### **Now,separate the target values from the features in the dataset. This label is that feature that I will use to train the model to predict fuel efficiency:**"
      ]
    },
    {
      "cell_type": "code",
      "metadata": {
        "colab": {
          "base_uri": "https://localhost:8080/"
        },
        "id": "bIrGr94Z6znp",
        "outputId": "fd45a96e-1543-463c-f20c-43563ecac30d"
      },
      "source": [
        "train_labels = train_dataset.pop('mpg')\n",
        "test_labels = test_dataset.pop('mpg')\n",
        "print(train_labels)"
      ],
      "execution_count": 20,
      "outputs": [
        {
          "output_type": "stream",
          "name": "stdout",
          "text": [
            "65     14.0\n",
            "132    25.0\n",
            "74     13.0\n",
            "78     21.0\n",
            "37     18.0\n",
            "       ... \n",
            "207    20.0\n",
            "279    29.5\n",
            "227    19.0\n",
            "148    26.0\n",
            "143    26.0\n",
            "Name: mpg, Length: 318, dtype: float64\n"
          ]
        }
      ]
    },
    {
      "cell_type": "code",
      "metadata": {
        "colab": {
          "base_uri": "https://localhost:8080/"
        },
        "id": "rj0zteP_64fD",
        "outputId": "39c90cca-dcd7-414a-db78-7371fc708b22"
      },
      "source": [
        "print(test_labels)"
      ],
      "execution_count": 21,
      "outputs": [
        {
          "output_type": "stream",
          "name": "stdout",
          "text": [
            "9      15.0\n",
            "25     10.0\n",
            "28      9.0\n",
            "31     25.0\n",
            "32     25.0\n",
            "       ... \n",
            "368    27.0\n",
            "370    31.0\n",
            "382    34.0\n",
            "384    32.0\n",
            "396    28.0\n",
            "Name: mpg, Length: 80, dtype: float64\n"
          ]
        }
      ]
    },
    {
      "cell_type": "code",
      "metadata": {
        "id": "gMNhLHzX6_Fu"
      },
      "source": [
        "train_features = train_dataset.copy()\n",
        "test_features = test_dataset.copy()\n",
        "\n",
        "train_labels = train_features.pop('cylinders')\n",
        "test_labels = test_features.pop('cylinders')"
      ],
      "execution_count": 22,
      "outputs": []
    },
    {
      "cell_type": "markdown",
      "metadata": {
        "id": "wWg9ghzP7DeQ"
      },
      "source": [
        "### **overall statistics**"
      ]
    },
    {
      "cell_type": "code",
      "metadata": {
        "colab": {
          "base_uri": "https://localhost:8080/",
          "height": 266
        },
        "id": "FJFL3KK57JFf",
        "outputId": "0c019b14-a954-4a91-e1fa-fc5b8c1b74de"
      },
      "source": [
        "train_stats=train_dataset.describe()\n",
        "train_stats.pop(\"cylinders\")\n",
        "train_stats=train_stats.transpose()\n",
        "train_stats"
      ],
      "execution_count": 23,
      "outputs": [
        {
          "output_type": "execute_result",
          "data": {
            "text/html": [
              "<div>\n",
              "<style scoped>\n",
              "    .dataframe tbody tr th:only-of-type {\n",
              "        vertical-align: middle;\n",
              "    }\n",
              "\n",
              "    .dataframe tbody tr th {\n",
              "        vertical-align: top;\n",
              "    }\n",
              "\n",
              "    .dataframe thead th {\n",
              "        text-align: right;\n",
              "    }\n",
              "</style>\n",
              "<table border=\"1\" class=\"dataframe\">\n",
              "  <thead>\n",
              "    <tr style=\"text-align: right;\">\n",
              "      <th></th>\n",
              "      <th>count</th>\n",
              "      <th>mean</th>\n",
              "      <th>std</th>\n",
              "      <th>min</th>\n",
              "      <th>25%</th>\n",
              "      <th>50%</th>\n",
              "      <th>75%</th>\n",
              "      <th>max</th>\n",
              "    </tr>\n",
              "  </thead>\n",
              "  <tbody>\n",
              "    <tr>\n",
              "      <th>displacement</th>\n",
              "      <td>318.0</td>\n",
              "      <td>193.061321</td>\n",
              "      <td>103.812742</td>\n",
              "      <td>70.0</td>\n",
              "      <td>100.25</td>\n",
              "      <td>151.0</td>\n",
              "      <td>259.50</td>\n",
              "      <td>455.0</td>\n",
              "    </tr>\n",
              "    <tr>\n",
              "      <th>weight</th>\n",
              "      <td>318.0</td>\n",
              "      <td>2963.823899</td>\n",
              "      <td>844.749805</td>\n",
              "      <td>1613.0</td>\n",
              "      <td>2219.25</td>\n",
              "      <td>2792.5</td>\n",
              "      <td>3571.25</td>\n",
              "      <td>5140.0</td>\n",
              "    </tr>\n",
              "    <tr>\n",
              "      <th>acceleration</th>\n",
              "      <td>318.0</td>\n",
              "      <td>15.595912</td>\n",
              "      <td>2.796282</td>\n",
              "      <td>8.0</td>\n",
              "      <td>13.90</td>\n",
              "      <td>15.5</td>\n",
              "      <td>17.30</td>\n",
              "      <td>24.8</td>\n",
              "    </tr>\n",
              "    <tr>\n",
              "      <th>model year</th>\n",
              "      <td>318.0</td>\n",
              "      <td>75.946541</td>\n",
              "      <td>3.705266</td>\n",
              "      <td>70.0</td>\n",
              "      <td>73.00</td>\n",
              "      <td>76.0</td>\n",
              "      <td>79.00</td>\n",
              "      <td>82.0</td>\n",
              "    </tr>\n",
              "    <tr>\n",
              "      <th>USA</th>\n",
              "      <td>318.0</td>\n",
              "      <td>0.641509</td>\n",
              "      <td>0.480313</td>\n",
              "      <td>0.0</td>\n",
              "      <td>0.00</td>\n",
              "      <td>1.0</td>\n",
              "      <td>1.00</td>\n",
              "      <td>1.0</td>\n",
              "    </tr>\n",
              "    <tr>\n",
              "      <th>Europe</th>\n",
              "      <td>318.0</td>\n",
              "      <td>0.163522</td>\n",
              "      <td>0.370424</td>\n",
              "      <td>0.0</td>\n",
              "      <td>0.00</td>\n",
              "      <td>0.0</td>\n",
              "      <td>0.00</td>\n",
              "      <td>1.0</td>\n",
              "    </tr>\n",
              "    <tr>\n",
              "      <th>Japan</th>\n",
              "      <td>318.0</td>\n",
              "      <td>0.194969</td>\n",
              "      <td>0.396801</td>\n",
              "      <td>0.0</td>\n",
              "      <td>0.00</td>\n",
              "      <td>0.0</td>\n",
              "      <td>0.00</td>\n",
              "      <td>1.0</td>\n",
              "    </tr>\n",
              "  </tbody>\n",
              "</table>\n",
              "</div>"
            ],
            "text/plain": [
              "              count         mean         std  ...     50%      75%     max\n",
              "displacement  318.0   193.061321  103.812742  ...   151.0   259.50   455.0\n",
              "weight        318.0  2963.823899  844.749805  ...  2792.5  3571.25  5140.0\n",
              "acceleration  318.0    15.595912    2.796282  ...    15.5    17.30    24.8\n",
              "model year    318.0    75.946541    3.705266  ...    76.0    79.00    82.0\n",
              "USA           318.0     0.641509    0.480313  ...     1.0     1.00     1.0\n",
              "Europe        318.0     0.163522    0.370424  ...     0.0     0.00     1.0\n",
              "Japan         318.0     0.194969    0.396801  ...     0.0     0.00     1.0\n",
              "\n",
              "[7 rows x 8 columns]"
            ]
          },
          "metadata": {},
          "execution_count": 23
        }
      ]
    },
    {
      "cell_type": "markdown",
      "metadata": {
        "id": "o0lwZba67OnY"
      },
      "source": [
        "### **Normalize The Data**"
      ]
    },
    {
      "cell_type": "code",
      "metadata": {
        "colab": {
          "base_uri": "https://localhost:8080/",
          "height": 419
        },
        "id": "7QMsNCzJ7SKS",
        "outputId": "d6eabcf8-f732-4094-b271-56bf093f83c9"
      },
      "source": [
        "def norm(x):\n",
        "  return (x - train_stats['mean']) / train_stats['std']\n",
        "normed_train_data = norm(train_dataset)\n",
        "normed_test_data = norm(test_dataset)\n",
        "normed_train_data"
      ],
      "execution_count": 24,
      "outputs": [
        {
          "output_type": "execute_result",
          "data": {
            "text/html": [
              "<div>\n",
              "<style scoped>\n",
              "    .dataframe tbody tr th:only-of-type {\n",
              "        vertical-align: middle;\n",
              "    }\n",
              "\n",
              "    .dataframe tbody tr th {\n",
              "        vertical-align: top;\n",
              "    }\n",
              "\n",
              "    .dataframe thead th {\n",
              "        text-align: right;\n",
              "    }\n",
              "</style>\n",
              "<table border=\"1\" class=\"dataframe\">\n",
              "  <thead>\n",
              "    <tr style=\"text-align: right;\">\n",
              "      <th></th>\n",
              "      <th>Europe</th>\n",
              "      <th>Japan</th>\n",
              "      <th>USA</th>\n",
              "      <th>acceleration</th>\n",
              "      <th>car name</th>\n",
              "      <th>cylinders</th>\n",
              "      <th>displacement</th>\n",
              "      <th>horsepower</th>\n",
              "      <th>model year</th>\n",
              "      <th>weight</th>\n",
              "    </tr>\n",
              "  </thead>\n",
              "  <tbody>\n",
              "    <tr>\n",
              "      <th>65</th>\n",
              "      <td>-0.441445</td>\n",
              "      <td>-0.491351</td>\n",
              "      <td>0.746369</td>\n",
              "      <td>-0.928344</td>\n",
              "      <td>NaN</td>\n",
              "      <td>NaN</td>\n",
              "      <td>1.521380</td>\n",
              "      <td>NaN</td>\n",
              "      <td>-1.065117</td>\n",
              "      <td>1.379315</td>\n",
              "    </tr>\n",
              "    <tr>\n",
              "      <th>132</th>\n",
              "      <td>-0.441445</td>\n",
              "      <td>-0.491351</td>\n",
              "      <td>0.746369</td>\n",
              "      <td>0.502127</td>\n",
              "      <td>NaN</td>\n",
              "      <td>NaN</td>\n",
              "      <td>-0.511125</td>\n",
              "      <td>NaN</td>\n",
              "      <td>-0.525344</td>\n",
              "      <td>-0.499348</td>\n",
              "    </tr>\n",
              "    <tr>\n",
              "      <th>74</th>\n",
              "      <td>-0.441445</td>\n",
              "      <td>-0.491351</td>\n",
              "      <td>0.746369</td>\n",
              "      <td>0.144509</td>\n",
              "      <td>NaN</td>\n",
              "      <td>NaN</td>\n",
              "      <td>1.049377</td>\n",
              "      <td>NaN</td>\n",
              "      <td>-1.065117</td>\n",
              "      <td>1.574639</td>\n",
              "    </tr>\n",
              "    <tr>\n",
              "      <th>78</th>\n",
              "      <td>2.258163</td>\n",
              "      <td>-0.491351</td>\n",
              "      <td>-1.335607</td>\n",
              "      <td>1.396171</td>\n",
              "      <td>NaN</td>\n",
              "      <td>NaN</td>\n",
              "      <td>-0.703780</td>\n",
              "      <td>NaN</td>\n",
              "      <td>-1.065117</td>\n",
              "      <td>0.017965</td>\n",
              "    </tr>\n",
              "    <tr>\n",
              "      <th>37</th>\n",
              "      <td>-0.441445</td>\n",
              "      <td>-0.491351</td>\n",
              "      <td>0.746369</td>\n",
              "      <td>-0.034300</td>\n",
              "      <td>NaN</td>\n",
              "      <td>NaN</td>\n",
              "      <td>0.375086</td>\n",
              "      <td>NaN</td>\n",
              "      <td>-1.335003</td>\n",
              "      <td>0.383754</td>\n",
              "    </tr>\n",
              "    <tr>\n",
              "      <th>...</th>\n",
              "      <td>...</td>\n",
              "      <td>...</td>\n",
              "      <td>...</td>\n",
              "      <td>...</td>\n",
              "      <td>...</td>\n",
              "      <td>...</td>\n",
              "      <td>...</td>\n",
              "      <td>...</td>\n",
              "      <td>...</td>\n",
              "      <td>...</td>\n",
              "    </tr>\n",
              "    <tr>\n",
              "      <th>207</th>\n",
              "      <td>2.258163</td>\n",
              "      <td>-0.491351</td>\n",
              "      <td>-1.335607</td>\n",
              "      <td>0.037224</td>\n",
              "      <td>NaN</td>\n",
              "      <td>NaN</td>\n",
              "      <td>-0.607453</td>\n",
              "      <td>NaN</td>\n",
              "      <td>0.014428</td>\n",
              "      <td>0.220392</td>\n",
              "    </tr>\n",
              "    <tr>\n",
              "      <th>279</th>\n",
              "      <td>-0.441445</td>\n",
              "      <td>2.028805</td>\n",
              "      <td>-1.335607</td>\n",
              "      <td>0.359080</td>\n",
              "      <td>NaN</td>\n",
              "      <td>NaN</td>\n",
              "      <td>-0.915700</td>\n",
              "      <td>NaN</td>\n",
              "      <td>0.554200</td>\n",
              "      <td>-0.981147</td>\n",
              "    </tr>\n",
              "    <tr>\n",
              "      <th>227</th>\n",
              "      <td>-0.441445</td>\n",
              "      <td>-0.491351</td>\n",
              "      <td>0.746369</td>\n",
              "      <td>0.752459</td>\n",
              "      <td>NaN</td>\n",
              "      <td>NaN</td>\n",
              "      <td>0.307657</td>\n",
              "      <td>NaN</td>\n",
              "      <td>0.284314</td>\n",
              "      <td>0.788608</td>\n",
              "    </tr>\n",
              "    <tr>\n",
              "      <th>148</th>\n",
              "      <td>2.258163</td>\n",
              "      <td>-0.491351</td>\n",
              "      <td>-1.335607</td>\n",
              "      <td>-0.570726</td>\n",
              "      <td>NaN</td>\n",
              "      <td>NaN</td>\n",
              "      <td>-0.742311</td>\n",
              "      <td>NaN</td>\n",
              "      <td>-0.525344</td>\n",
              "      <td>-0.849747</td>\n",
              "    </tr>\n",
              "    <tr>\n",
              "      <th>143</th>\n",
              "      <td>2.258163</td>\n",
              "      <td>-0.491351</td>\n",
              "      <td>-1.335607</td>\n",
              "      <td>-0.391917</td>\n",
              "      <td>NaN</td>\n",
              "      <td>NaN</td>\n",
              "      <td>-0.925333</td>\n",
              "      <td>NaN</td>\n",
              "      <td>-0.525344</td>\n",
              "      <td>-0.785823</td>\n",
              "    </tr>\n",
              "  </tbody>\n",
              "</table>\n",
              "<p>318 rows × 10 columns</p>\n",
              "</div>"
            ],
            "text/plain": [
              "       Europe     Japan       USA  ...  horsepower model year    weight\n",
              "65  -0.441445 -0.491351  0.746369  ...         NaN  -1.065117  1.379315\n",
              "132 -0.441445 -0.491351  0.746369  ...         NaN  -0.525344 -0.499348\n",
              "74  -0.441445 -0.491351  0.746369  ...         NaN  -1.065117  1.574639\n",
              "78   2.258163 -0.491351 -1.335607  ...         NaN  -1.065117  0.017965\n",
              "37  -0.441445 -0.491351  0.746369  ...         NaN  -1.335003  0.383754\n",
              "..        ...       ...       ...  ...         ...        ...       ...\n",
              "207  2.258163 -0.491351 -1.335607  ...         NaN   0.014428  0.220392\n",
              "279 -0.441445  2.028805 -1.335607  ...         NaN   0.554200 -0.981147\n",
              "227 -0.441445 -0.491351  0.746369  ...         NaN   0.284314  0.788608\n",
              "148  2.258163 -0.491351 -1.335607  ...         NaN  -0.525344 -0.849747\n",
              "143  2.258163 -0.491351 -1.335607  ...         NaN  -0.525344 -0.785823\n",
              "\n",
              "[318 rows x 10 columns]"
            ]
          },
          "metadata": {},
          "execution_count": 24
        }
      ]
    },
    {
      "cell_type": "code",
      "metadata": {
        "colab": {
          "base_uri": "https://localhost:8080/",
          "height": 419
        },
        "id": "qLMzW2_S7XBR",
        "outputId": "77478ad4-ecdd-465a-97fa-8cbc29d8efc6"
      },
      "source": [
        "normed_test_data"
      ],
      "execution_count": 25,
      "outputs": [
        {
          "output_type": "execute_result",
          "data": {
            "text/html": [
              "<div>\n",
              "<style scoped>\n",
              "    .dataframe tbody tr th:only-of-type {\n",
              "        vertical-align: middle;\n",
              "    }\n",
              "\n",
              "    .dataframe tbody tr th {\n",
              "        vertical-align: top;\n",
              "    }\n",
              "\n",
              "    .dataframe thead th {\n",
              "        text-align: right;\n",
              "    }\n",
              "</style>\n",
              "<table border=\"1\" class=\"dataframe\">\n",
              "  <thead>\n",
              "    <tr style=\"text-align: right;\">\n",
              "      <th></th>\n",
              "      <th>Europe</th>\n",
              "      <th>Japan</th>\n",
              "      <th>USA</th>\n",
              "      <th>acceleration</th>\n",
              "      <th>car name</th>\n",
              "      <th>cylinders</th>\n",
              "      <th>displacement</th>\n",
              "      <th>horsepower</th>\n",
              "      <th>model year</th>\n",
              "      <th>weight</th>\n",
              "    </tr>\n",
              "  </thead>\n",
              "  <tbody>\n",
              "    <tr>\n",
              "      <th>9</th>\n",
              "      <td>-0.441445</td>\n",
              "      <td>-0.491351</td>\n",
              "      <td>0.746369</td>\n",
              "      <td>-2.537624</td>\n",
              "      <td>NaN</td>\n",
              "      <td>NaN</td>\n",
              "      <td>1.897057</td>\n",
              "      <td>NaN</td>\n",
              "      <td>-1.604889</td>\n",
              "      <td>1.049040</td>\n",
              "    </tr>\n",
              "    <tr>\n",
              "      <th>25</th>\n",
              "      <td>-0.441445</td>\n",
              "      <td>-0.491351</td>\n",
              "      <td>0.746369</td>\n",
              "      <td>-0.570726</td>\n",
              "      <td>NaN</td>\n",
              "      <td>NaN</td>\n",
              "      <td>1.608075</td>\n",
              "      <td>NaN</td>\n",
              "      <td>-1.604889</td>\n",
              "      <td>1.954633</td>\n",
              "    </tr>\n",
              "    <tr>\n",
              "      <th>28</th>\n",
              "      <td>-0.441445</td>\n",
              "      <td>-0.491351</td>\n",
              "      <td>0.746369</td>\n",
              "      <td>1.038553</td>\n",
              "      <td>NaN</td>\n",
              "      <td>NaN</td>\n",
              "      <td>1.068642</td>\n",
              "      <td>NaN</td>\n",
              "      <td>-1.604889</td>\n",
              "      <td>2.093136</td>\n",
              "    </tr>\n",
              "    <tr>\n",
              "      <th>31</th>\n",
              "      <td>-0.441445</td>\n",
              "      <td>2.028805</td>\n",
              "      <td>-1.335607</td>\n",
              "      <td>-0.570726</td>\n",
              "      <td>NaN</td>\n",
              "      <td>NaN</td>\n",
              "      <td>-0.771209</td>\n",
              "      <td>NaN</td>\n",
              "      <td>-1.335003</td>\n",
              "      <td>-0.871055</td>\n",
              "    </tr>\n",
              "    <tr>\n",
              "      <th>32</th>\n",
              "      <td>-0.441445</td>\n",
              "      <td>-0.491351</td>\n",
              "      <td>0.746369</td>\n",
              "      <td>1.217362</td>\n",
              "      <td>NaN</td>\n",
              "      <td>NaN</td>\n",
              "      <td>-0.915700</td>\n",
              "      <td>NaN</td>\n",
              "      <td>-1.335003</td>\n",
              "      <td>-1.086504</td>\n",
              "    </tr>\n",
              "    <tr>\n",
              "      <th>...</th>\n",
              "      <td>...</td>\n",
              "      <td>...</td>\n",
              "      <td>...</td>\n",
              "      <td>...</td>\n",
              "      <td>...</td>\n",
              "      <td>...</td>\n",
              "      <td>...</td>\n",
              "      <td>...</td>\n",
              "      <td>...</td>\n",
              "      <td>...</td>\n",
              "    </tr>\n",
              "    <tr>\n",
              "      <th>368</th>\n",
              "      <td>-0.441445</td>\n",
              "      <td>-0.491351</td>\n",
              "      <td>0.746369</td>\n",
              "      <td>1.074315</td>\n",
              "      <td>NaN</td>\n",
              "      <td>NaN</td>\n",
              "      <td>-0.780842</td>\n",
              "      <td>NaN</td>\n",
              "      <td>1.633745</td>\n",
              "      <td>-0.383337</td>\n",
              "    </tr>\n",
              "    <tr>\n",
              "      <th>370</th>\n",
              "      <td>-0.441445</td>\n",
              "      <td>-0.491351</td>\n",
              "      <td>0.746369</td>\n",
              "      <td>0.216033</td>\n",
              "      <td>NaN</td>\n",
              "      <td>NaN</td>\n",
              "      <td>-0.780842</td>\n",
              "      <td>NaN</td>\n",
              "      <td>1.633745</td>\n",
              "      <td>-0.460283</td>\n",
              "    </tr>\n",
              "    <tr>\n",
              "      <th>382</th>\n",
              "      <td>-0.441445</td>\n",
              "      <td>2.028805</td>\n",
              "      <td>-1.335607</td>\n",
              "      <td>0.466365</td>\n",
              "      <td>NaN</td>\n",
              "      <td>NaN</td>\n",
              "      <td>-0.819373</td>\n",
              "      <td>NaN</td>\n",
              "      <td>1.633745</td>\n",
              "      <td>-0.850931</td>\n",
              "    </tr>\n",
              "    <tr>\n",
              "      <th>384</th>\n",
              "      <td>-0.441445</td>\n",
              "      <td>2.028805</td>\n",
              "      <td>-1.335607</td>\n",
              "      <td>0.037224</td>\n",
              "      <td>NaN</td>\n",
              "      <td>NaN</td>\n",
              "      <td>-0.983129</td>\n",
              "      <td>NaN</td>\n",
              "      <td>1.633745</td>\n",
              "      <td>-1.182390</td>\n",
              "    </tr>\n",
              "    <tr>\n",
              "      <th>396</th>\n",
              "      <td>-0.441445</td>\n",
              "      <td>-0.491351</td>\n",
              "      <td>0.746369</td>\n",
              "      <td>1.074315</td>\n",
              "      <td>NaN</td>\n",
              "      <td>NaN</td>\n",
              "      <td>-0.703780</td>\n",
              "      <td>NaN</td>\n",
              "      <td>1.633745</td>\n",
              "      <td>-0.401094</td>\n",
              "    </tr>\n",
              "  </tbody>\n",
              "</table>\n",
              "<p>80 rows × 10 columns</p>\n",
              "</div>"
            ],
            "text/plain": [
              "       Europe     Japan       USA  ...  horsepower model year    weight\n",
              "9   -0.441445 -0.491351  0.746369  ...         NaN  -1.604889  1.049040\n",
              "25  -0.441445 -0.491351  0.746369  ...         NaN  -1.604889  1.954633\n",
              "28  -0.441445 -0.491351  0.746369  ...         NaN  -1.604889  2.093136\n",
              "31  -0.441445  2.028805 -1.335607  ...         NaN  -1.335003 -0.871055\n",
              "32  -0.441445 -0.491351  0.746369  ...         NaN  -1.335003 -1.086504\n",
              "..        ...       ...       ...  ...         ...        ...       ...\n",
              "368 -0.441445 -0.491351  0.746369  ...         NaN   1.633745 -0.383337\n",
              "370 -0.441445 -0.491351  0.746369  ...         NaN   1.633745 -0.460283\n",
              "382 -0.441445  2.028805 -1.335607  ...         NaN   1.633745 -0.850931\n",
              "384 -0.441445  2.028805 -1.335607  ...         NaN   1.633745 -1.182390\n",
              "396 -0.441445 -0.491351  0.746369  ...         NaN   1.633745 -0.401094\n",
              "\n",
              "[80 rows x 10 columns]"
            ]
          },
          "metadata": {},
          "execution_count": 25
        }
      ]
    },
    {
      "cell_type": "code",
      "metadata": {
        "colab": {
          "base_uri": "https://localhost:8080/",
          "height": 297
        },
        "id": "_W-ENPbl7bha",
        "outputId": "e2a510a1-8c71-49b9-cb12-c75f2c0465d9"
      },
      "source": [
        "train_dataset.describe().transpose()[['mean', 'std']]"
      ],
      "execution_count": 26,
      "outputs": [
        {
          "output_type": "execute_result",
          "data": {
            "text/html": [
              "<div>\n",
              "<style scoped>\n",
              "    .dataframe tbody tr th:only-of-type {\n",
              "        vertical-align: middle;\n",
              "    }\n",
              "\n",
              "    .dataframe tbody tr th {\n",
              "        vertical-align: top;\n",
              "    }\n",
              "\n",
              "    .dataframe thead th {\n",
              "        text-align: right;\n",
              "    }\n",
              "</style>\n",
              "<table border=\"1\" class=\"dataframe\">\n",
              "  <thead>\n",
              "    <tr style=\"text-align: right;\">\n",
              "      <th></th>\n",
              "      <th>mean</th>\n",
              "      <th>std</th>\n",
              "    </tr>\n",
              "  </thead>\n",
              "  <tbody>\n",
              "    <tr>\n",
              "      <th>cylinders</th>\n",
              "      <td>5.427673</td>\n",
              "      <td>1.682941</td>\n",
              "    </tr>\n",
              "    <tr>\n",
              "      <th>displacement</th>\n",
              "      <td>193.061321</td>\n",
              "      <td>103.812742</td>\n",
              "    </tr>\n",
              "    <tr>\n",
              "      <th>weight</th>\n",
              "      <td>2963.823899</td>\n",
              "      <td>844.749805</td>\n",
              "    </tr>\n",
              "    <tr>\n",
              "      <th>acceleration</th>\n",
              "      <td>15.595912</td>\n",
              "      <td>2.796282</td>\n",
              "    </tr>\n",
              "    <tr>\n",
              "      <th>model year</th>\n",
              "      <td>75.946541</td>\n",
              "      <td>3.705266</td>\n",
              "    </tr>\n",
              "    <tr>\n",
              "      <th>USA</th>\n",
              "      <td>0.641509</td>\n",
              "      <td>0.480313</td>\n",
              "    </tr>\n",
              "    <tr>\n",
              "      <th>Europe</th>\n",
              "      <td>0.163522</td>\n",
              "      <td>0.370424</td>\n",
              "    </tr>\n",
              "    <tr>\n",
              "      <th>Japan</th>\n",
              "      <td>0.194969</td>\n",
              "      <td>0.396801</td>\n",
              "    </tr>\n",
              "  </tbody>\n",
              "</table>\n",
              "</div>"
            ],
            "text/plain": [
              "                     mean         std\n",
              "cylinders        5.427673    1.682941\n",
              "displacement   193.061321  103.812742\n",
              "weight        2963.823899  844.749805\n",
              "acceleration    15.595912    2.796282\n",
              "model year      75.946541    3.705266\n",
              "USA              0.641509    0.480313\n",
              "Europe           0.163522    0.370424\n",
              "Japan            0.194969    0.396801"
            ]
          },
          "metadata": {},
          "execution_count": 26
        }
      ]
    },
    {
      "cell_type": "markdown",
      "metadata": {
        "id": "466MxNGZ7gEK"
      },
      "source": [
        "## **Build The Model**"
      ]
    },
    {
      "cell_type": "code",
      "metadata": {
        "colab": {
          "base_uri": "https://localhost:8080/"
        },
        "id": "pDpiTvmh7jgc",
        "outputId": "448c66d5-8abb-43f1-f90c-e21ff4cf5e4d"
      },
      "source": [
        "def build_model():\n",
        "  model = keras.Sequential([\n",
        "    layers.Dense(64, activation=tf.nn.relu, input_shape=[len(train_dataset.keys())]),\n",
        "    layers.Dense(64, activation=tf.nn.relu),\n",
        "    layers.Dense(1)\n",
        "  ])\n",
        "\n",
        "  optimizer = tf.keras.optimizers.RMSprop(0.001)\n",
        "\n",
        "  model.compile(loss='mean_squared_error',\n",
        "                optimizer=optimizer,\n",
        "                metrics=['mean_absolute_error', 'mean_squared_error'])\n",
        "  return model\n",
        "model = build_model()\n",
        "model"
      ],
      "execution_count": 27,
      "outputs": [
        {
          "output_type": "execute_result",
          "data": {
            "text/plain": [
              "<keras.engine.sequential.Sequential at 0x7f1ff11d9dd0>"
            ]
          },
          "metadata": {},
          "execution_count": 27
        }
      ]
    },
    {
      "cell_type": "code",
      "metadata": {
        "colab": {
          "base_uri": "https://localhost:8080/"
        },
        "id": "3dJFSANU7ofM",
        "outputId": "c9f7a23e-1b14-4b61-e6d6-90ebede9d1db"
      },
      "source": [
        "model.summary()"
      ],
      "execution_count": 28,
      "outputs": [
        {
          "output_type": "stream",
          "name": "stdout",
          "text": [
            "Model: \"sequential\"\n",
            "_________________________________________________________________\n",
            "Layer (type)                 Output Shape              Param #   \n",
            "=================================================================\n",
            "dense (Dense)                (None, 64)                704       \n",
            "_________________________________________________________________\n",
            "dense_1 (Dense)              (None, 64)                4160      \n",
            "_________________________________________________________________\n",
            "dense_2 (Dense)              (None, 1)                 65        \n",
            "=================================================================\n",
            "Total params: 4,929\n",
            "Trainable params: 4,929\n",
            "Non-trainable params: 0\n",
            "_________________________________________________________________\n"
          ]
        }
      ]
    },
    {
      "cell_type": "markdown",
      "metadata": {
        "id": "EOUEzlGO7vWV"
      },
      "source": [
        "During this notebook, we built a model that could reliably predict a car’s mpg given some information about the car within 2.5 mpg of the actual value.\n",
        "\n",
        "This model could be trained with newer car data and be used to predict competitor’s future mpg ratings for upcoming cars, allowing companies to potentially resources currently used on R&D today on making more efficient, more popular vehicles that outshine competitors.\n",
        "\n",
        "While our model may be inaccurate in some cases, we talked about how our dataset can contain inaccurate values for the mpg, and oftentimes, our predictions are more accurate than the values in the dataset.\n",
        "\n",
        "For newer cars, the collected data is significantly more reliable, so our model will be able to perform better with a different, more accurate dataset.\n",
        "\n",
        "If you want to optimize spending your resources and outshine the competition, Cocolevio’s machine learning models can help you get the edge you need to succeed in your market.\n"
      ]
    }
  ]
}